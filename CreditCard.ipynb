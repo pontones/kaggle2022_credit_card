{
  "nbformat": 4,
  "nbformat_minor": 0,
  "metadata": {
    "colab": {
      "name": "CreditCard.ipynb",
      "provenance": [],
      "include_colab_link": true
    },
    "kernelspec": {
      "name": "python3",
      "display_name": "Python 3"
    },
    "language_info": {
      "name": "python"
    }
  },
  "cells": [
    {
      "cell_type": "markdown",
      "metadata": {
        "id": "view-in-github",
        "colab_type": "text"
      },
      "source": [
        "<a href=\"https://colab.research.google.com/github/pontones/kaggle2022_credit_card/blob/main/CreditCard.ipynb\" target=\"_parent\"><img src=\"https://colab.research.google.com/assets/colab-badge.svg\" alt=\"Open In Colab\"/></a>"
      ]
    },
    {
      "cell_type": "markdown",
      "source": [
        "# Initialize scripts for using kaggle"
      ],
      "metadata": {
        "id": "RJFeyCZHaSDw"
      }
    },
    {
      "cell_type": "code",
      "execution_count": 1,
      "metadata": {
        "id": "AuyswWOaaQGX",
        "colab": {
          "base_uri": "https://localhost:8080/"
        },
        "outputId": "9438f0f6-5dc7-46b4-de0d-1c0e79ffe374"
      },
      "outputs": [
        {
          "output_type": "stream",
          "name": "stdout",
          "text": [
            "Looking in indexes: https://pypi.org/simple, https://us-python.pkg.dev/colab-wheels/public/simple/\n",
            "Requirement already satisfied: kaggle in /usr/local/lib/python3.7/dist-packages (1.5.12)\n",
            "Requirement already satisfied: python-dateutil in /usr/local/lib/python3.7/dist-packages (from kaggle) (2.8.2)\n",
            "Requirement already satisfied: certifi in /usr/local/lib/python3.7/dist-packages (from kaggle) (2022.5.18.1)\n",
            "Requirement already satisfied: requests in /usr/local/lib/python3.7/dist-packages (from kaggle) (2.23.0)\n",
            "Requirement already satisfied: six>=1.10 in /usr/local/lib/python3.7/dist-packages (from kaggle) (1.15.0)\n",
            "Requirement already satisfied: python-slugify in /usr/local/lib/python3.7/dist-packages (from kaggle) (6.1.2)\n",
            "Requirement already satisfied: tqdm in /usr/local/lib/python3.7/dist-packages (from kaggle) (4.64.0)\n",
            "Requirement already satisfied: urllib3 in /usr/local/lib/python3.7/dist-packages (from kaggle) (1.24.3)\n",
            "Requirement already satisfied: text-unidecode>=1.3 in /usr/local/lib/python3.7/dist-packages (from python-slugify->kaggle) (1.3)\n",
            "Requirement already satisfied: idna<3,>=2.5 in /usr/local/lib/python3.7/dist-packages (from requests->kaggle) (2.10)\n",
            "Requirement already satisfied: chardet<4,>=3.0.2 in /usr/local/lib/python3.7/dist-packages (from requests->kaggle) (3.0.4)\n"
          ]
        }
      ],
      "source": [
        "!pip install kaggle"
      ]
    },
    {
      "cell_type": "code",
      "source": [
        "from google.colab import drive\n",
        "drive.mount('/content/drive')"
      ],
      "metadata": {
        "colab": {
          "base_uri": "https://localhost:8080/"
        },
        "id": "jQQduGzqdiCp",
        "outputId": "0ba13ba8-02f1-45b6-c22a-7aa3b1b57ca0"
      },
      "execution_count": 2,
      "outputs": [
        {
          "output_type": "stream",
          "name": "stdout",
          "text": [
            "Mounted at /content/drive\n"
          ]
        }
      ]
    },
    {
      "cell_type": "code",
      "source": [
        "!mkdir /root/.kaggle\n",
        "!cp /content/drive/MyDrive/kaggle/api/kaggle.json /root/.kaggle/kaggle.json"
      ],
      "metadata": {
        "id": "WCmPVAUbdpt2"
      },
      "execution_count": 3,
      "outputs": []
    },
    {
      "cell_type": "markdown",
      "source": [
        "# Download Data"
      ],
      "metadata": {
        "id": "FEviRM_8s9Br"
      }
    },
    {
      "cell_type": "code",
      "source": [
        "!kaggle competitions download -c jpx-tokyo-stock-exchange-prediction -p ./jpx-tokyo-stock-exchange-prediction"
      ],
      "metadata": {
        "colab": {
          "base_uri": "https://localhost:8080/"
        },
        "id": "1MGRvcB8dr_r",
        "outputId": "c0e2eccc-8a68-4d55-b5a7-a32b50681aff"
      },
      "execution_count": 4,
      "outputs": [
        {
          "output_type": "stream",
          "name": "stdout",
          "text": [
            "Downloading jpx-tokyo-stock-exchange-prediction.zip to ./jpx-tokyo-stock-exchange-prediction\n",
            " 97% 226M/233M [00:01<00:00, 157MB/s]\n",
            "100% 233M/233M [00:01<00:00, 151MB/s]\n"
          ]
        }
      ]
    },
    {
      "cell_type": "markdown",
      "source": [
        "# Inport Modules"
      ],
      "metadata": {
        "id": "efl1tR76tMNf"
      }
    },
    {
      "cell_type": "code",
      "source": [
        "from zipfile import ZipFile\n",
        "from io import BytesIO\n",
        "import pandas as pd\n",
        "from pprint import pprint"
      ],
      "metadata": {
        "id": "QvQIbJaVtPAN"
      },
      "execution_count": 14,
      "outputs": []
    },
    {
      "cell_type": "markdown",
      "source": [
        "# Loading Data"
      ],
      "metadata": {
        "id": "pnnfBymHtHm3"
      }
    },
    {
      "cell_type": "code",
      "source": [
        "zipdata = ZipFile('/content/jpx-tokyo-stock-exchange-prediction/jpx-tokyo-stock-exchange-prediction.zip')\n",
        "pprint(zipdata.namelist())"
      ],
      "metadata": {
        "id": "VQtaCF_4tGbJ",
        "outputId": "8b48e140-a03f-4ff0-f6d3-e4c8a7bc8e87",
        "colab": {
          "base_uri": "https://localhost:8080/"
        }
      },
      "execution_count": 15,
      "outputs": [
        {
          "output_type": "stream",
          "name": "stdout",
          "text": [
            "['data_specifications/options_spec.csv',\n",
            " 'data_specifications/stock_fin_spec.csv',\n",
            " 'data_specifications/stock_list_spec.csv',\n",
            " 'data_specifications/stock_price_spec.csv',\n",
            " 'data_specifications/trades_spec.csv',\n",
            " 'example_test_files/financials.csv',\n",
            " 'example_test_files/options.csv',\n",
            " 'example_test_files/sample_submission.csv',\n",
            " 'example_test_files/secondary_stock_prices.csv',\n",
            " 'example_test_files/stock_prices.csv',\n",
            " 'example_test_files/trades.csv',\n",
            " 'jpx_tokyo_market_prediction/__init__.py',\n",
            " 'jpx_tokyo_market_prediction/competition.cpython-37m-x86_64-linux-gnu.so',\n",
            " 'stock_list.csv',\n",
            " 'supplemental_files/financials.csv',\n",
            " 'supplemental_files/options.csv',\n",
            " 'supplemental_files/secondary_stock_prices.csv',\n",
            " 'supplemental_files/stock_prices.csv',\n",
            " 'supplemental_files/trades.csv',\n",
            " 'train_files/financials.csv',\n",
            " 'train_files/options.csv',\n",
            " 'train_files/secondary_stock_prices.csv',\n",
            " 'train_files/stock_prices.csv',\n",
            " 'train_files/trades.csv']\n"
          ]
        }
      ]
    },
    {
      "cell_type": "code",
      "source": [
        ""
      ],
      "metadata": {
        "id": "y2ErHeAPxwjo"
      },
      "execution_count": null,
      "outputs": []
    }
  ]
}