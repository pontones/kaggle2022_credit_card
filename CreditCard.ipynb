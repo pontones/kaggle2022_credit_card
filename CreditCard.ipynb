{
  "nbformat": 4,
  "nbformat_minor": 0,
  "metadata": {
    "colab": {
      "name": "CreditCard.ipynb",
      "provenance": [],
      "include_colab_link": true
    },
    "kernelspec": {
      "name": "python3",
      "display_name": "Python 3"
    },
    "language_info": {
      "name": "python"
    }
  },
  "cells": [
    {
      "cell_type": "markdown",
      "metadata": {
        "id": "view-in-github",
        "colab_type": "text"
      },
      "source": [
        "<a href=\"https://colab.research.google.com/github/pontones/kaggle2022_credit_card/blob/main/CreditCard.ipynb\" target=\"_parent\"><img src=\"https://colab.research.google.com/assets/colab-badge.svg\" alt=\"Open In Colab\"/></a>"
      ]
    },
    {
      "cell_type": "markdown",
      "source": [
        "# Initialize scripts for using kaggle"
      ],
      "metadata": {
        "id": "RJFeyCZHaSDw"
      }
    },
    {
      "cell_type": "code",
      "execution_count": 1,
      "metadata": {
        "id": "AuyswWOaaQGX",
        "colab": {
          "base_uri": "https://localhost:8080/"
        },
        "outputId": "9438f0f6-5dc7-46b4-de0d-1c0e79ffe374"
      },
      "outputs": [
        {
          "output_type": "stream",
          "name": "stdout",
          "text": [
            "Looking in indexes: https://pypi.org/simple, https://us-python.pkg.dev/colab-wheels/public/simple/\n",
            "Requirement already satisfied: kaggle in /usr/local/lib/python3.7/dist-packages (1.5.12)\n",
            "Requirement already satisfied: python-dateutil in /usr/local/lib/python3.7/dist-packages (from kaggle) (2.8.2)\n",
            "Requirement already satisfied: certifi in /usr/local/lib/python3.7/dist-packages (from kaggle) (2022.5.18.1)\n",
            "Requirement already satisfied: requests in /usr/local/lib/python3.7/dist-packages (from kaggle) (2.23.0)\n",
            "Requirement already satisfied: six>=1.10 in /usr/local/lib/python3.7/dist-packages (from kaggle) (1.15.0)\n",
            "Requirement already satisfied: python-slugify in /usr/local/lib/python3.7/dist-packages (from kaggle) (6.1.2)\n",
            "Requirement already satisfied: tqdm in /usr/local/lib/python3.7/dist-packages (from kaggle) (4.64.0)\n",
            "Requirement already satisfied: urllib3 in /usr/local/lib/python3.7/dist-packages (from kaggle) (1.24.3)\n",
            "Requirement already satisfied: text-unidecode>=1.3 in /usr/local/lib/python3.7/dist-packages (from python-slugify->kaggle) (1.3)\n",
            "Requirement already satisfied: idna<3,>=2.5 in /usr/local/lib/python3.7/dist-packages (from requests->kaggle) (2.10)\n",
            "Requirement already satisfied: chardet<4,>=3.0.2 in /usr/local/lib/python3.7/dist-packages (from requests->kaggle) (3.0.4)\n"
          ]
        }
      ],
      "source": [
        "!pip install kaggle"
      ]
    },
    {
      "cell_type": "code",
      "source": [
        "from google.colab import drive\n",
        "drive.mount('/content/drive')"
      ],
      "metadata": {
        "colab": {
          "base_uri": "https://localhost:8080/"
        },
        "id": "jQQduGzqdiCp",
        "outputId": "0ba13ba8-02f1-45b6-c22a-7aa3b1b57ca0"
      },
      "execution_count": 2,
      "outputs": [
        {
          "output_type": "stream",
          "name": "stdout",
          "text": [
            "Mounted at /content/drive\n"
          ]
        }
      ]
    },
    {
      "cell_type": "code",
      "source": [
        "!mkdir /root/.kaggle\n",
        "!cp /content/drive/MyDrive/kaggle/api/kaggle.json /root/.kaggle/kaggle.json"
      ],
      "metadata": {
        "id": "WCmPVAUbdpt2"
      },
      "execution_count": 3,
      "outputs": []
    },
    {
      "cell_type": "markdown",
      "source": [
        "# Download Data"
      ],
      "metadata": {
        "id": "FEviRM_8s9Br"
      }
    },
    {
      "cell_type": "code",
      "source": [
        "!kaggle competitions download -c jpx-tokyo-stock-exchange-prediction -p ./jpx-tokyo-stock-exchange-prediction"
      ],
      "metadata": {
        "colab": {
          "base_uri": "https://localhost:8080/"
        },
        "id": "1MGRvcB8dr_r",
        "outputId": "c0e2eccc-8a68-4d55-b5a7-a32b50681aff"
      },
      "execution_count": 4,
      "outputs": [
        {
          "output_type": "stream",
          "name": "stdout",
          "text": [
            "Downloading jpx-tokyo-stock-exchange-prediction.zip to ./jpx-tokyo-stock-exchange-prediction\n",
            " 97% 226M/233M [00:01<00:00, 157MB/s]\n",
            "100% 233M/233M [00:01<00:00, 151MB/s]\n"
          ]
        }
      ]
    },
    {
      "cell_type": "markdown",
      "source": [
        "# Inport Modules"
      ],
      "metadata": {
        "id": "efl1tR76tMNf"
      }
    },
    {
      "cell_type": "code",
      "source": [
        "from zipfile import ZipFile\n",
        "from io import BytesIO\n",
        "import pandas as pd\n",
        "from pprint import pprint\n",
        "import pathlib"
      ],
      "metadata": {
        "id": "QvQIbJaVtPAN"
      },
      "execution_count": 26,
      "outputs": []
    },
    {
      "cell_type": "markdown",
      "source": [
        "# Loading Data"
      ],
      "metadata": {
        "id": "pnnfBymHtHm3"
      }
    },
    {
      "cell_type": "code",
      "source": [
        "zf = ZipFile('/content/jpx-tokyo-stock-exchange-prediction/jpx-tokyo-stock-exchange-prediction.zip')\n",
        "pprint(zf.namelist())"
      ],
      "metadata": {
        "colab": {
          "base_uri": "https://localhost:8080/"
        },
        "id": "VQtaCF_4tGbJ",
        "outputId": "017d1a65-5b1e-4500-d873-3efc36201382"
      },
      "execution_count": 19,
      "outputs": [
        {
          "output_type": "stream",
          "name": "stdout",
          "text": [
            "['data_specifications/options_spec.csv',\n",
            " 'data_specifications/stock_fin_spec.csv',\n",
            " 'data_specifications/stock_list_spec.csv',\n",
            " 'data_specifications/stock_price_spec.csv',\n",
            " 'data_specifications/trades_spec.csv',\n",
            " 'example_test_files/financials.csv',\n",
            " 'example_test_files/options.csv',\n",
            " 'example_test_files/sample_submission.csv',\n",
            " 'example_test_files/secondary_stock_prices.csv',\n",
            " 'example_test_files/stock_prices.csv',\n",
            " 'example_test_files/trades.csv',\n",
            " 'jpx_tokyo_market_prediction/__init__.py',\n",
            " 'jpx_tokyo_market_prediction/competition.cpython-37m-x86_64-linux-gnu.so',\n",
            " 'stock_list.csv',\n",
            " 'supplemental_files/financials.csv',\n",
            " 'supplemental_files/options.csv',\n",
            " 'supplemental_files/secondary_stock_prices.csv',\n",
            " 'supplemental_files/stock_prices.csv',\n",
            " 'supplemental_files/trades.csv',\n",
            " 'train_files/financials.csv',\n",
            " 'train_files/options.csv',\n",
            " 'train_files/secondary_stock_prices.csv',\n",
            " 'train_files/stock_prices.csv',\n",
            " 'train_files/trades.csv']\n"
          ]
        }
      ]
    },
    {
      "cell_type": "code",
      "source": [
        "train_financialsData = pd.read_csv(BytesIO(zf.read('train_files/financials.csv')))"
      ],
      "metadata": {
        "colab": {
          "base_uri": "https://localhost:8080/"
        },
        "id": "y2ErHeAPxwjo",
        "outputId": "1055c497-3157-4f5a-bf59-fc02800559f8"
      },
      "execution_count": 20,
      "outputs": [
        {
          "output_type": "stream",
          "name": "stderr",
          "text": [
            "/usr/local/lib/python3.7/dist-packages/IPython/core/interactiveshell.py:2882: DtypeWarning: Columns (14,15,16,17,18,19,42,44) have mixed types.Specify dtype option on import or set low_memory=False.\n",
            "  exec(code_obj, self.user_global_ns, self.user_ns)\n"
          ]
        }
      ]
    },
    {
      "cell_type": "code",
      "source": [
        "train_financialsData"
      ],
      "metadata": {
        "id": "25PC0ptpzz7e",
        "outputId": "688c1118-c3a6-40ea-9f59-6c39d109d13b",
        "colab": {
          "base_uri": "https://localhost:8080/",
          "height": 661
        }
      },
      "execution_count": 21,
      "outputs": [
        {
          "output_type": "execute_result",
          "data": {
            "text/plain": [
              "       DisclosureNumber       DateCode        Date  SecuritiesCode  \\\n",
              "0          2.016121e+13  20170104_2753  2017-01-04          2753.0   \n",
              "1          2.017010e+13  20170104_3353  2017-01-04          3353.0   \n",
              "2          2.016123e+13  20170104_4575  2017-01-04          4575.0   \n",
              "3          2.017010e+13  20170105_2659  2017-01-05          2659.0   \n",
              "4          2.017011e+13  20170105_3050  2017-01-05          3050.0   \n",
              "...                 ...            ...         ...             ...   \n",
              "92951      2.021112e+13  20211203_6040  2021-12-03          6040.0   \n",
              "92952      2.021120e+13  20211203_6898  2021-12-03          6898.0   \n",
              "92953      2.021120e+13  20211203_6969  2021-12-03          6969.0   \n",
              "92954      2.021112e+13  20211203_8057  2021-12-03          8057.0   \n",
              "92955      2.021120e+13  20211203_9627  2021-12-03          9627.0   \n",
              "\n",
              "      DisclosedDate DisclosedTime  DisclosedUnixTime  \\\n",
              "0        2017-01-04      07:30:00       1.483483e+09   \n",
              "1        2017-01-04      15:00:00       1.483510e+09   \n",
              "2        2017-01-04      12:00:00       1.483499e+09   \n",
              "3        2017-01-05      15:00:00       1.483596e+09   \n",
              "4        2017-01-05      15:30:00       1.483598e+09   \n",
              "...             ...           ...                ...   \n",
              "92951    2021-12-03      15:00:00       1.638511e+09   \n",
              "92952    2021-12-03      16:00:00       1.638515e+09   \n",
              "92953    2021-12-03      15:00:00       1.638511e+09   \n",
              "92954    2021-12-03      17:00:00       1.638518e+09   \n",
              "92955    2021-12-03      15:30:00       1.638513e+09   \n",
              "\n",
              "                              TypeOfDocument CurrentPeriodEndDate  \\\n",
              "0      3QFinancialStatements_Consolidated_JP           2016-12-31   \n",
              "1      3QFinancialStatements_Consolidated_JP           2016-11-30   \n",
              "2                           ForecastRevision           2016-12-31   \n",
              "3      3QFinancialStatements_Consolidated_JP           2016-11-30   \n",
              "4                           ForecastRevision           2017-02-28   \n",
              "...                                      ...                  ...   \n",
              "92951  1QFinancialStatements_Consolidated_JP           2021-10-31   \n",
              "92952  3QFinancialStatements_Consolidated_JP           2021-10-31   \n",
              "92953                       ForecastRevision           2022-03-31   \n",
              "92954  1QFinancialStatements_Consolidated_JP           2021-10-20   \n",
              "92955  2QFinancialStatements_Consolidated_JP           2021-10-31   \n",
              "\n",
              "      TypeOfCurrentPeriod  ... ForecastEarningsPerShare  \\\n",
              "0                      3Q  ...                   319.76   \n",
              "1                      3Q  ...                   485.36   \n",
              "2                      2Q  ...                   -93.11   \n",
              "3                      3Q  ...                   285.05   \n",
              "4                      FY  ...                      NaN   \n",
              "...                   ...  ...                      ...   \n",
              "92951                  1Q  ...                        －   \n",
              "92952                  3Q  ...                   142.01   \n",
              "92953                  FY  ...                  -147.87   \n",
              "92954                  1Q  ...                   330.92   \n",
              "92955                  2Q  ...                   234.28   \n",
              "\n",
              "      ApplyingOfSpecificAccountingOfTheQuarterlyFinancialStatements  \\\n",
              "0                                                    NaN              \n",
              "1                                                    NaN              \n",
              "2                                                    NaN              \n",
              "3                                                    NaN              \n",
              "4                                                    NaN              \n",
              "...                                                  ...              \n",
              "92951                                                NaN              \n",
              "92952                                                NaN              \n",
              "92953                                                NaN              \n",
              "92954                                                NaN              \n",
              "92955                                                NaN              \n",
              "\n",
              "      MaterialChangesInSubsidiaries  \\\n",
              "0                             False   \n",
              "1                             False   \n",
              "2                               NaN   \n",
              "3                             False   \n",
              "4                               NaN   \n",
              "...                             ...   \n",
              "92951                         False   \n",
              "92952                         False   \n",
              "92953                           NaN   \n",
              "92954                         False   \n",
              "92955                         False   \n",
              "\n",
              "      ChangesBasedOnRevisionsOfAccountingStandard  \\\n",
              "0                                            True   \n",
              "1                                            True   \n",
              "2                                             NaN   \n",
              "3                                            True   \n",
              "4                                             NaN   \n",
              "...                                           ...   \n",
              "92951                                        True   \n",
              "92952                                       False   \n",
              "92953                                         NaN   \n",
              "92954                                        True   \n",
              "92955                                        True   \n",
              "\n",
              "      ChangesOtherThanOnesBasedOnRevisionsOfAccountingStandard  \\\n",
              "0                                                  False         \n",
              "1                                                  False         \n",
              "2                                                    NaN         \n",
              "3                                                  False         \n",
              "4                                                    NaN         \n",
              "...                                                  ...         \n",
              "92951                                              False         \n",
              "92952                                              False         \n",
              "92953                                                NaN         \n",
              "92954                                              False         \n",
              "92955                                              False         \n",
              "\n",
              "      ChangesInAccountingEstimates RetrospectiveRestatement  \\\n",
              "0                            False                    False   \n",
              "1                            False                    False   \n",
              "2                              NaN                      NaN   \n",
              "3                            False                    False   \n",
              "4                              NaN                      NaN   \n",
              "...                            ...                      ...   \n",
              "92951                        False                    False   \n",
              "92952                        False                    False   \n",
              "92953                          NaN                      NaN   \n",
              "92954                        False                    False   \n",
              "92955                        False                    False   \n",
              "\n",
              "      NumberOfIssuedAndOutstandingSharesAtTheEndOfFiscalYearIncludingTreasuryStock  \\\n",
              "0                                              6848800.0                             \n",
              "1                                              2035000.0                             \n",
              "2                                                    NaN                             \n",
              "3                                             31981654.0                             \n",
              "4                                                    NaN                             \n",
              "...                                                  ...                             \n",
              "92951                                         16000400.0                             \n",
              "92952                                           816979.0                             \n",
              "92953                                                NaN                             \n",
              "92954                                         10419371.0                             \n",
              "92955                                         35428212.0                             \n",
              "\n",
              "      NumberOfTreasuryStockAtTheEndOfFiscalYear AverageNumberOfShares  \n",
              "0                                             －             6848800.0  \n",
              "1                                        118917             1916083.0  \n",
              "2                                           NaN                   NaN  \n",
              "3                                         18257            31963405.0  \n",
              "4                                           NaN                   NaN  \n",
              "...                                         ...                   ...  \n",
              "92951                                    836400            15164000.0  \n",
              "92952                                    157541              659486.0  \n",
              "92953                                       NaN                   NaN  \n",
              "92954                                    614032             9805339.0  \n",
              "92955                                    200911            35260638.0  \n",
              "\n",
              "[92956 rows x 45 columns]"
            ],
            "text/html": [
              "\n",
              "  <div id=\"df-a83e2d7a-a8f9-4060-85b1-499ce17568e1\">\n",
              "    <div class=\"colab-df-container\">\n",
              "      <div>\n",
              "<style scoped>\n",
              "    .dataframe tbody tr th:only-of-type {\n",
              "        vertical-align: middle;\n",
              "    }\n",
              "\n",
              "    .dataframe tbody tr th {\n",
              "        vertical-align: top;\n",
              "    }\n",
              "\n",
              "    .dataframe thead th {\n",
              "        text-align: right;\n",
              "    }\n",
              "</style>\n",
              "<table border=\"1\" class=\"dataframe\">\n",
              "  <thead>\n",
              "    <tr style=\"text-align: right;\">\n",
              "      <th></th>\n",
              "      <th>DisclosureNumber</th>\n",
              "      <th>DateCode</th>\n",
              "      <th>Date</th>\n",
              "      <th>SecuritiesCode</th>\n",
              "      <th>DisclosedDate</th>\n",
              "      <th>DisclosedTime</th>\n",
              "      <th>DisclosedUnixTime</th>\n",
              "      <th>TypeOfDocument</th>\n",
              "      <th>CurrentPeriodEndDate</th>\n",
              "      <th>TypeOfCurrentPeriod</th>\n",
              "      <th>...</th>\n",
              "      <th>ForecastEarningsPerShare</th>\n",
              "      <th>ApplyingOfSpecificAccountingOfTheQuarterlyFinancialStatements</th>\n",
              "      <th>MaterialChangesInSubsidiaries</th>\n",
              "      <th>ChangesBasedOnRevisionsOfAccountingStandard</th>\n",
              "      <th>ChangesOtherThanOnesBasedOnRevisionsOfAccountingStandard</th>\n",
              "      <th>ChangesInAccountingEstimates</th>\n",
              "      <th>RetrospectiveRestatement</th>\n",
              "      <th>NumberOfIssuedAndOutstandingSharesAtTheEndOfFiscalYearIncludingTreasuryStock</th>\n",
              "      <th>NumberOfTreasuryStockAtTheEndOfFiscalYear</th>\n",
              "      <th>AverageNumberOfShares</th>\n",
              "    </tr>\n",
              "  </thead>\n",
              "  <tbody>\n",
              "    <tr>\n",
              "      <th>0</th>\n",
              "      <td>2.016121e+13</td>\n",
              "      <td>20170104_2753</td>\n",
              "      <td>2017-01-04</td>\n",
              "      <td>2753.0</td>\n",
              "      <td>2017-01-04</td>\n",
              "      <td>07:30:00</td>\n",
              "      <td>1.483483e+09</td>\n",
              "      <td>3QFinancialStatements_Consolidated_JP</td>\n",
              "      <td>2016-12-31</td>\n",
              "      <td>3Q</td>\n",
              "      <td>...</td>\n",
              "      <td>319.76</td>\n",
              "      <td>NaN</td>\n",
              "      <td>False</td>\n",
              "      <td>True</td>\n",
              "      <td>False</td>\n",
              "      <td>False</td>\n",
              "      <td>False</td>\n",
              "      <td>6848800.0</td>\n",
              "      <td>－</td>\n",
              "      <td>6848800.0</td>\n",
              "    </tr>\n",
              "    <tr>\n",
              "      <th>1</th>\n",
              "      <td>2.017010e+13</td>\n",
              "      <td>20170104_3353</td>\n",
              "      <td>2017-01-04</td>\n",
              "      <td>3353.0</td>\n",
              "      <td>2017-01-04</td>\n",
              "      <td>15:00:00</td>\n",
              "      <td>1.483510e+09</td>\n",
              "      <td>3QFinancialStatements_Consolidated_JP</td>\n",
              "      <td>2016-11-30</td>\n",
              "      <td>3Q</td>\n",
              "      <td>...</td>\n",
              "      <td>485.36</td>\n",
              "      <td>NaN</td>\n",
              "      <td>False</td>\n",
              "      <td>True</td>\n",
              "      <td>False</td>\n",
              "      <td>False</td>\n",
              "      <td>False</td>\n",
              "      <td>2035000.0</td>\n",
              "      <td>118917</td>\n",
              "      <td>1916083.0</td>\n",
              "    </tr>\n",
              "    <tr>\n",
              "      <th>2</th>\n",
              "      <td>2.016123e+13</td>\n",
              "      <td>20170104_4575</td>\n",
              "      <td>2017-01-04</td>\n",
              "      <td>4575.0</td>\n",
              "      <td>2017-01-04</td>\n",
              "      <td>12:00:00</td>\n",
              "      <td>1.483499e+09</td>\n",
              "      <td>ForecastRevision</td>\n",
              "      <td>2016-12-31</td>\n",
              "      <td>2Q</td>\n",
              "      <td>...</td>\n",
              "      <td>-93.11</td>\n",
              "      <td>NaN</td>\n",
              "      <td>NaN</td>\n",
              "      <td>NaN</td>\n",
              "      <td>NaN</td>\n",
              "      <td>NaN</td>\n",
              "      <td>NaN</td>\n",
              "      <td>NaN</td>\n",
              "      <td>NaN</td>\n",
              "      <td>NaN</td>\n",
              "    </tr>\n",
              "    <tr>\n",
              "      <th>3</th>\n",
              "      <td>2.017010e+13</td>\n",
              "      <td>20170105_2659</td>\n",
              "      <td>2017-01-05</td>\n",
              "      <td>2659.0</td>\n",
              "      <td>2017-01-05</td>\n",
              "      <td>15:00:00</td>\n",
              "      <td>1.483596e+09</td>\n",
              "      <td>3QFinancialStatements_Consolidated_JP</td>\n",
              "      <td>2016-11-30</td>\n",
              "      <td>3Q</td>\n",
              "      <td>...</td>\n",
              "      <td>285.05</td>\n",
              "      <td>NaN</td>\n",
              "      <td>False</td>\n",
              "      <td>True</td>\n",
              "      <td>False</td>\n",
              "      <td>False</td>\n",
              "      <td>False</td>\n",
              "      <td>31981654.0</td>\n",
              "      <td>18257</td>\n",
              "      <td>31963405.0</td>\n",
              "    </tr>\n",
              "    <tr>\n",
              "      <th>4</th>\n",
              "      <td>2.017011e+13</td>\n",
              "      <td>20170105_3050</td>\n",
              "      <td>2017-01-05</td>\n",
              "      <td>3050.0</td>\n",
              "      <td>2017-01-05</td>\n",
              "      <td>15:30:00</td>\n",
              "      <td>1.483598e+09</td>\n",
              "      <td>ForecastRevision</td>\n",
              "      <td>2017-02-28</td>\n",
              "      <td>FY</td>\n",
              "      <td>...</td>\n",
              "      <td>NaN</td>\n",
              "      <td>NaN</td>\n",
              "      <td>NaN</td>\n",
              "      <td>NaN</td>\n",
              "      <td>NaN</td>\n",
              "      <td>NaN</td>\n",
              "      <td>NaN</td>\n",
              "      <td>NaN</td>\n",
              "      <td>NaN</td>\n",
              "      <td>NaN</td>\n",
              "    </tr>\n",
              "    <tr>\n",
              "      <th>...</th>\n",
              "      <td>...</td>\n",
              "      <td>...</td>\n",
              "      <td>...</td>\n",
              "      <td>...</td>\n",
              "      <td>...</td>\n",
              "      <td>...</td>\n",
              "      <td>...</td>\n",
              "      <td>...</td>\n",
              "      <td>...</td>\n",
              "      <td>...</td>\n",
              "      <td>...</td>\n",
              "      <td>...</td>\n",
              "      <td>...</td>\n",
              "      <td>...</td>\n",
              "      <td>...</td>\n",
              "      <td>...</td>\n",
              "      <td>...</td>\n",
              "      <td>...</td>\n",
              "      <td>...</td>\n",
              "      <td>...</td>\n",
              "      <td>...</td>\n",
              "    </tr>\n",
              "    <tr>\n",
              "      <th>92951</th>\n",
              "      <td>2.021112e+13</td>\n",
              "      <td>20211203_6040</td>\n",
              "      <td>2021-12-03</td>\n",
              "      <td>6040.0</td>\n",
              "      <td>2021-12-03</td>\n",
              "      <td>15:00:00</td>\n",
              "      <td>1.638511e+09</td>\n",
              "      <td>1QFinancialStatements_Consolidated_JP</td>\n",
              "      <td>2021-10-31</td>\n",
              "      <td>1Q</td>\n",
              "      <td>...</td>\n",
              "      <td>－</td>\n",
              "      <td>NaN</td>\n",
              "      <td>False</td>\n",
              "      <td>True</td>\n",
              "      <td>False</td>\n",
              "      <td>False</td>\n",
              "      <td>False</td>\n",
              "      <td>16000400.0</td>\n",
              "      <td>836400</td>\n",
              "      <td>15164000.0</td>\n",
              "    </tr>\n",
              "    <tr>\n",
              "      <th>92952</th>\n",
              "      <td>2.021120e+13</td>\n",
              "      <td>20211203_6898</td>\n",
              "      <td>2021-12-03</td>\n",
              "      <td>6898.0</td>\n",
              "      <td>2021-12-03</td>\n",
              "      <td>16:00:00</td>\n",
              "      <td>1.638515e+09</td>\n",
              "      <td>3QFinancialStatements_Consolidated_JP</td>\n",
              "      <td>2021-10-31</td>\n",
              "      <td>3Q</td>\n",
              "      <td>...</td>\n",
              "      <td>142.01</td>\n",
              "      <td>NaN</td>\n",
              "      <td>False</td>\n",
              "      <td>False</td>\n",
              "      <td>False</td>\n",
              "      <td>False</td>\n",
              "      <td>False</td>\n",
              "      <td>816979.0</td>\n",
              "      <td>157541</td>\n",
              "      <td>659486.0</td>\n",
              "    </tr>\n",
              "    <tr>\n",
              "      <th>92953</th>\n",
              "      <td>2.021120e+13</td>\n",
              "      <td>20211203_6969</td>\n",
              "      <td>2021-12-03</td>\n",
              "      <td>6969.0</td>\n",
              "      <td>2021-12-03</td>\n",
              "      <td>15:00:00</td>\n",
              "      <td>1.638511e+09</td>\n",
              "      <td>ForecastRevision</td>\n",
              "      <td>2022-03-31</td>\n",
              "      <td>FY</td>\n",
              "      <td>...</td>\n",
              "      <td>-147.87</td>\n",
              "      <td>NaN</td>\n",
              "      <td>NaN</td>\n",
              "      <td>NaN</td>\n",
              "      <td>NaN</td>\n",
              "      <td>NaN</td>\n",
              "      <td>NaN</td>\n",
              "      <td>NaN</td>\n",
              "      <td>NaN</td>\n",
              "      <td>NaN</td>\n",
              "    </tr>\n",
              "    <tr>\n",
              "      <th>92954</th>\n",
              "      <td>2.021112e+13</td>\n",
              "      <td>20211203_8057</td>\n",
              "      <td>2021-12-03</td>\n",
              "      <td>8057.0</td>\n",
              "      <td>2021-12-03</td>\n",
              "      <td>17:00:00</td>\n",
              "      <td>1.638518e+09</td>\n",
              "      <td>1QFinancialStatements_Consolidated_JP</td>\n",
              "      <td>2021-10-20</td>\n",
              "      <td>1Q</td>\n",
              "      <td>...</td>\n",
              "      <td>330.92</td>\n",
              "      <td>NaN</td>\n",
              "      <td>False</td>\n",
              "      <td>True</td>\n",
              "      <td>False</td>\n",
              "      <td>False</td>\n",
              "      <td>False</td>\n",
              "      <td>10419371.0</td>\n",
              "      <td>614032</td>\n",
              "      <td>9805339.0</td>\n",
              "    </tr>\n",
              "    <tr>\n",
              "      <th>92955</th>\n",
              "      <td>2.021120e+13</td>\n",
              "      <td>20211203_9627</td>\n",
              "      <td>2021-12-03</td>\n",
              "      <td>9627.0</td>\n",
              "      <td>2021-12-03</td>\n",
              "      <td>15:30:00</td>\n",
              "      <td>1.638513e+09</td>\n",
              "      <td>2QFinancialStatements_Consolidated_JP</td>\n",
              "      <td>2021-10-31</td>\n",
              "      <td>2Q</td>\n",
              "      <td>...</td>\n",
              "      <td>234.28</td>\n",
              "      <td>NaN</td>\n",
              "      <td>False</td>\n",
              "      <td>True</td>\n",
              "      <td>False</td>\n",
              "      <td>False</td>\n",
              "      <td>False</td>\n",
              "      <td>35428212.0</td>\n",
              "      <td>200911</td>\n",
              "      <td>35260638.0</td>\n",
              "    </tr>\n",
              "  </tbody>\n",
              "</table>\n",
              "<p>92956 rows × 45 columns</p>\n",
              "</div>\n",
              "      <button class=\"colab-df-convert\" onclick=\"convertToInteractive('df-a83e2d7a-a8f9-4060-85b1-499ce17568e1')\"\n",
              "              title=\"Convert this dataframe to an interactive table.\"\n",
              "              style=\"display:none;\">\n",
              "        \n",
              "  <svg xmlns=\"http://www.w3.org/2000/svg\" height=\"24px\"viewBox=\"0 0 24 24\"\n",
              "       width=\"24px\">\n",
              "    <path d=\"M0 0h24v24H0V0z\" fill=\"none\"/>\n",
              "    <path d=\"M18.56 5.44l.94 2.06.94-2.06 2.06-.94-2.06-.94-.94-2.06-.94 2.06-2.06.94zm-11 1L8.5 8.5l.94-2.06 2.06-.94-2.06-.94L8.5 2.5l-.94 2.06-2.06.94zm10 10l.94 2.06.94-2.06 2.06-.94-2.06-.94-.94-2.06-.94 2.06-2.06.94z\"/><path d=\"M17.41 7.96l-1.37-1.37c-.4-.4-.92-.59-1.43-.59-.52 0-1.04.2-1.43.59L10.3 9.45l-7.72 7.72c-.78.78-.78 2.05 0 2.83L4 21.41c.39.39.9.59 1.41.59.51 0 1.02-.2 1.41-.59l7.78-7.78 2.81-2.81c.8-.78.8-2.07 0-2.86zM5.41 20L4 18.59l7.72-7.72 1.47 1.35L5.41 20z\"/>\n",
              "  </svg>\n",
              "      </button>\n",
              "      \n",
              "  <style>\n",
              "    .colab-df-container {\n",
              "      display:flex;\n",
              "      flex-wrap:wrap;\n",
              "      gap: 12px;\n",
              "    }\n",
              "\n",
              "    .colab-df-convert {\n",
              "      background-color: #E8F0FE;\n",
              "      border: none;\n",
              "      border-radius: 50%;\n",
              "      cursor: pointer;\n",
              "      display: none;\n",
              "      fill: #1967D2;\n",
              "      height: 32px;\n",
              "      padding: 0 0 0 0;\n",
              "      width: 32px;\n",
              "    }\n",
              "\n",
              "    .colab-df-convert:hover {\n",
              "      background-color: #E2EBFA;\n",
              "      box-shadow: 0px 1px 2px rgba(60, 64, 67, 0.3), 0px 1px 3px 1px rgba(60, 64, 67, 0.15);\n",
              "      fill: #174EA6;\n",
              "    }\n",
              "\n",
              "    [theme=dark] .colab-df-convert {\n",
              "      background-color: #3B4455;\n",
              "      fill: #D2E3FC;\n",
              "    }\n",
              "\n",
              "    [theme=dark] .colab-df-convert:hover {\n",
              "      background-color: #434B5C;\n",
              "      box-shadow: 0px 1px 3px 1px rgba(0, 0, 0, 0.15);\n",
              "      filter: drop-shadow(0px 1px 2px rgba(0, 0, 0, 0.3));\n",
              "      fill: #FFFFFF;\n",
              "    }\n",
              "  </style>\n",
              "\n",
              "      <script>\n",
              "        const buttonEl =\n",
              "          document.querySelector('#df-a83e2d7a-a8f9-4060-85b1-499ce17568e1 button.colab-df-convert');\n",
              "        buttonEl.style.display =\n",
              "          google.colab.kernel.accessAllowed ? 'block' : 'none';\n",
              "\n",
              "        async function convertToInteractive(key) {\n",
              "          const element = document.querySelector('#df-a83e2d7a-a8f9-4060-85b1-499ce17568e1');\n",
              "          const dataTable =\n",
              "            await google.colab.kernel.invokeFunction('convertToInteractive',\n",
              "                                                     [key], {});\n",
              "          if (!dataTable) return;\n",
              "\n",
              "          const docLinkHtml = 'Like what you see? Visit the ' +\n",
              "            '<a target=\"_blank\" href=https://colab.research.google.com/notebooks/data_table.ipynb>data table notebook</a>'\n",
              "            + ' to learn more about interactive tables.';\n",
              "          element.innerHTML = '';\n",
              "          dataTable['output_type'] = 'display_data';\n",
              "          await google.colab.output.renderOutput(dataTable, element);\n",
              "          const docLink = document.createElement('div');\n",
              "          docLink.innerHTML = docLinkHtml;\n",
              "          element.appendChild(docLink);\n",
              "        }\n",
              "      </script>\n",
              "    </div>\n",
              "  </div>\n",
              "  "
            ]
          },
          "metadata": {},
          "execution_count": 21
        }
      ]
    },
    {
      "cell_type": "code",
      "source": [
        "zf.extract('jpx_tokyo_market_prediction/__init__.py', './jpx-tokyo-stock-exchange-prediction/')\n",
        "zf.extract('jpx_tokyo_market_prediction/competition.cpython-37m-x86_64-linux-gnu.so', './jpx-tokyo-stock-exchange-prediction/')"
      ],
      "metadata": {
        "id": "lhgOozUw1ECv",
        "outputId": "e2441ca4-1e78-480a-a0fd-1ec4fcfddf23",
        "colab": {
          "base_uri": "https://localhost:8080/",
          "height": 35
        }
      },
      "execution_count": 33,
      "outputs": [
        {
          "output_type": "execute_result",
          "data": {
            "text/plain": [
              "'jpx-tokyo-stock-exchange-prediction/jpx_tokyo_market_prediction/competition.cpython-37m-x86_64-linux-gnu.so'"
            ],
            "application/vnd.google.colaboratory.intrinsic+json": {
              "type": "string"
            }
          },
          "metadata": {},
          "execution_count": 33
        }
      ]
    },
    {
      "cell_type": "code",
      "source": [
        "dataPath = pathlib.Path('/content/jpx-tokyo-stock-exchange-prediction/jpx_tokyo_market_prediction')"
      ],
      "metadata": {
        "id": "6AI09UFN2dSr"
      },
      "execution_count": 36,
      "outputs": []
    },
    {
      "cell_type": "code",
      "source": [
        "pprint(list(dataPath.glob('*')))"
      ],
      "metadata": {
        "id": "mxM2PGXU3EAz",
        "outputId": "35f1007b-1ed6-41dc-f574-cead9e13f88e",
        "colab": {
          "base_uri": "https://localhost:8080/"
        }
      },
      "execution_count": 37,
      "outputs": [
        {
          "output_type": "stream",
          "name": "stdout",
          "text": [
            "[PosixPath('/content/jpx-tokyo-stock-exchange-prediction/jpx_tokyo_market_prediction/__init__.py'),\n",
            " PosixPath('/content/jpx-tokyo-stock-exchange-prediction/jpx_tokyo_market_prediction/jpx_tokyo_market_prediction'),\n",
            " PosixPath('/content/jpx-tokyo-stock-exchange-prediction/jpx_tokyo_market_prediction/competition.cpython-37m-x86_64-linux-gnu.so')]\n"
          ]
        }
      ]
    },
    {
      "cell_type": "code",
      "source": [
        "import jpx-tokyo-stock-exchange-prediction.jpx_tokyo_market_prediction.make_env"
      ],
      "metadata": {
        "id": "Gi3vCVoS3IcU",
        "outputId": "a73cbd2a-c8b8-469e-8559-1b3593f57f91",
        "colab": {
          "base_uri": "https://localhost:8080/",
          "height": 131
        }
      },
      "execution_count": 47,
      "outputs": [
        {
          "output_type": "error",
          "ename": "SyntaxError",
          "evalue": "ignored",
          "traceback": [
            "\u001b[0;36m  File \u001b[0;32m\"<ipython-input-47-67cdbfd352fa>\"\u001b[0;36m, line \u001b[0;32m1\u001b[0m\n\u001b[0;31m    import jpx-tokyo-stock-exchange-prediction.jpx_tokyo_market_prediction.competition\u001b[0m\n\u001b[0m              ^\u001b[0m\n\u001b[0;31mSyntaxError\u001b[0m\u001b[0;31m:\u001b[0m invalid syntax\n"
          ]
        }
      ]
    },
    {
      "cell_type": "code",
      "source": [
        "!ls ."
      ],
      "metadata": {
        "id": "AW88Hzot4LvM",
        "outputId": "4232af9e-fb7e-4989-97fd-73b40fe8d7d5",
        "colab": {
          "base_uri": "https://localhost:8080/"
        }
      },
      "execution_count": 40,
      "outputs": [
        {
          "output_type": "stream",
          "name": "stdout",
          "text": [
            "drive  jpx-tokyo-stock-exchange-prediction  sample_data\n"
          ]
        }
      ]
    },
    {
      "cell_type": "code",
      "source": [
        ""
      ],
      "metadata": {
        "id": "MRBid2oG4NxM"
      },
      "execution_count": null,
      "outputs": []
    }
  ]
}